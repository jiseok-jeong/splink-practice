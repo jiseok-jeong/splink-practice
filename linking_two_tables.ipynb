{
 "cells": [
  {
   "cell_type": "code",
   "execution_count": 1,
   "metadata": {},
   "outputs": [],
   "source": [
    "from splink import splink_datasets"
   ]
  },
  {
   "cell_type": "code",
   "execution_count": 3,
   "metadata": {},
   "outputs": [
    {
     "data": {
      "text/html": [
       "<div>\n",
       "<style scoped>\n",
       "    .dataframe tbody tr th:only-of-type {\n",
       "        vertical-align: middle;\n",
       "    }\n",
       "\n",
       "    .dataframe tbody tr th {\n",
       "        vertical-align: top;\n",
       "    }\n",
       "\n",
       "    .dataframe thead th {\n",
       "        text-align: right;\n",
       "    }\n",
       "</style>\n",
       "<table border=\"1\" class=\"dataframe\">\n",
       "  <thead>\n",
       "    <tr style=\"text-align: right;\">\n",
       "      <th></th>\n",
       "      <th>unique_id</th>\n",
       "      <th>first_name</th>\n",
       "      <th>surname</th>\n",
       "      <th>dob</th>\n",
       "      <th>city</th>\n",
       "      <th>email</th>\n",
       "      <th>cluster</th>\n",
       "    </tr>\n",
       "  </thead>\n",
       "  <tbody>\n",
       "    <tr>\n",
       "      <th>129</th>\n",
       "      <td>129</td>\n",
       "      <td>Matilda</td>\n",
       "      <td>Barker</td>\n",
       "      <td>1990-03-08</td>\n",
       "      <td>Reading</td>\n",
       "      <td>m.b@bell-brown.com</td>\n",
       "      <td>36</td>\n",
       "    </tr>\n",
       "    <tr>\n",
       "      <th>763</th>\n",
       "      <td>763</td>\n",
       "      <td>Arabella</td>\n",
       "      <td>Martin</td>\n",
       "      <td>1984-04-14</td>\n",
       "      <td>London</td>\n",
       "      <td>amartin@navarro.com</td>\n",
       "      <td>194</td>\n",
       "    </tr>\n",
       "  </tbody>\n",
       "</table>\n",
       "</div>"
      ],
      "text/plain": [
       "     unique_id first_name surname         dob     city                email  \\\n",
       "129        129    Matilda  Barker  1990-03-08  Reading   m.b@bell-brown.com   \n",
       "763        763   Arabella  Martin  1984-04-14   London  amartin@navarro.com   \n",
       "\n",
       "     cluster  \n",
       "129       36  \n",
       "763      194  "
      ]
     },
     "execution_count": 3,
     "metadata": {},
     "output_type": "execute_result"
    }
   ],
   "source": [
    "df = splink_datasets.fake_1000\n",
    "# Split a simple dataset into two, separate datasets which can be linked together.\n",
    "df_l = df.sample(frac=0.5)\n",
    "df_r = df.drop(df_l.index)\n",
    "\n",
    "df_l.head(2)"
   ]
  },
  {
   "cell_type": "code",
   "execution_count": 4,
   "metadata": {},
   "outputs": [],
   "source": [
    "import splink.comparison_library as cl\n",
    "\n",
    "from splink import DuckDBAPI, Linker, SettingsCreator, block_on\n",
    "\n",
    "settings = SettingsCreator(\n",
    "    link_type=\"link_only\",\n",
    "    blocking_rules_to_generate_predictions=[\n",
    "        block_on(\"first_name\"),\n",
    "        block_on(\"surname\"),\n",
    "    ],\n",
    "    comparisons=[\n",
    "        cl.NameComparison(\n",
    "            \"first_name\",\n",
    "        ),\n",
    "        cl.NameComparison(\"surname\"),\n",
    "        cl.DateOfBirthComparison(\n",
    "            \"dob\",\n",
    "            input_is_string=True,\n",
    "            invalid_dates_as_null=True,\n",
    "        ),\n",
    "        cl.ExactMatch(\"city\").configure(term_frequency_adjustments=True),\n",
    "        cl.EmailComparison(\"email\"),\n",
    "    ],\n",
    ")\n",
    "\n",
    "linker = Linker(\n",
    "    [df_l, df_r],\n",
    "    settings,\n",
    "    db_api=DuckDBAPI(),\n",
    "    input_table_aliases=[\"df_left\", \"df_right\"],\n",
    ")"
   ]
  },
  {
   "cell_type": "code",
   "execution_count": 6,
   "metadata": {},
   "outputs": [
    {
     "data": {
      "text/html": [
       "\n",
       "<style>\n",
       "  #altair-viz-d5e140354e1c4db4883e0707a406d12a.vega-embed {\n",
       "    width: 100%;\n",
       "    display: flex;\n",
       "  }\n",
       "\n",
       "  #altair-viz-d5e140354e1c4db4883e0707a406d12a.vega-embed details,\n",
       "  #altair-viz-d5e140354e1c4db4883e0707a406d12a.vega-embed details summary {\n",
       "    position: relative;\n",
       "  }\n",
       "</style>\n",
       "<div id=\"altair-viz-d5e140354e1c4db4883e0707a406d12a\"></div>\n",
       "<script type=\"text/javascript\">\n",
       "  var VEGA_DEBUG = (typeof VEGA_DEBUG == \"undefined\") ? {} : VEGA_DEBUG;\n",
       "  (function(spec, embedOpt){\n",
       "    let outputDiv = document.currentScript.previousElementSibling;\n",
       "    if (outputDiv.id !== \"altair-viz-d5e140354e1c4db4883e0707a406d12a\") {\n",
       "      outputDiv = document.getElementById(\"altair-viz-d5e140354e1c4db4883e0707a406d12a\");\n",
       "    }\n",
       "\n",
       "    const paths = {\n",
       "      \"vega\": \"https://cdn.jsdelivr.net/npm/vega@5?noext\",\n",
       "      \"vega-lib\": \"https://cdn.jsdelivr.net/npm/vega-lib?noext\",\n",
       "      \"vega-lite\": \"https://cdn.jsdelivr.net/npm/vega-lite@5.20.1?noext\",\n",
       "      \"vega-embed\": \"https://cdn.jsdelivr.net/npm/vega-embed@6?noext\",\n",
       "    };\n",
       "\n",
       "    function maybeLoadScript(lib, version) {\n",
       "      var key = `${lib.replace(\"-\", \"\")}_version`;\n",
       "      return (VEGA_DEBUG[key] == version) ?\n",
       "        Promise.resolve(paths[lib]) :\n",
       "        new Promise(function(resolve, reject) {\n",
       "          var s = document.createElement('script');\n",
       "          document.getElementsByTagName(\"head\")[0].appendChild(s);\n",
       "          s.async = true;\n",
       "          s.onload = () => {\n",
       "            VEGA_DEBUG[key] = version;\n",
       "            return resolve(paths[lib]);\n",
       "          };\n",
       "          s.onerror = () => reject(`Error loading script: ${paths[lib]}`);\n",
       "          s.src = paths[lib];\n",
       "        });\n",
       "    }\n",
       "\n",
       "    function showError(err) {\n",
       "      outputDiv.innerHTML = `<div class=\"error\" style=\"color:red;\">${err}</div>`;\n",
       "      throw err;\n",
       "    }\n",
       "\n",
       "    function displayChart(vegaEmbed) {\n",
       "      vegaEmbed(outputDiv, spec, embedOpt)\n",
       "        .catch(err => showError(`Javascript Error: ${err.message}<br>This usually means there's a typo in your chart specification. See the javascript console for the full traceback.`));\n",
       "    }\n",
       "\n",
       "    if(typeof define === \"function\" && define.amd) {\n",
       "      requirejs.config({paths});\n",
       "      let deps = [\"vega-embed\"];\n",
       "      require(deps, displayChart, err => showError(`Error loading script: ${err.message}`));\n",
       "    } else {\n",
       "      maybeLoadScript(\"vega\", \"5\")\n",
       "        .then(() => maybeLoadScript(\"vega-lite\", \"5.20.1\"))\n",
       "        .then(() => maybeLoadScript(\"vega-embed\", \"6\"))\n",
       "        .catch(showError)\n",
       "        .then(() => displayChart(vegaEmbed));\n",
       "    }\n",
       "  })({\"config\": {\"view\": {\"continuousWidth\": 400, \"continuousHeight\": 300}}, \"layer\": [{\"mark\": \"rect\", \"encoding\": {\"color\": {\"field\": \"completeness\", \"legend\": null, \"scale\": {\"scheme\": \"darkred\", \"zero\": true}, \"type\": \"quantitative\"}, \"tooltip\": [{\"field\": \"source_dataset\", \"title\": \"Source dataset\", \"type\": \"nominal\"}, {\"field\": \"total_rows_inc_nulls\", \"format\": \",\", \"title\": \"# of records\", \"type\": \"quantitative\"}, {\"field\": \"column_name\", \"title\": \"Column name\", \"type\": \"nominal\"}, {\"field\": \"total_null_rows\", \"format\": \",\", \"title\": \"# of nulls\", \"type\": \"quantitative\"}, {\"field\": \"completeness\", \"format\": \".1%\", \"type\": \"quantitative\"}], \"x\": {\"axis\": {\"labelAngle\": 20}, \"field\": \"column_name\", \"sort\": {\"field\": \"mean_comp\", \"order\": \"descending\"}, \"title\": \"Column name\", \"type\": \"nominal\"}, \"y\": {\"field\": \"source_dataset\", \"title\": \"Source dataset\", \"type\": \"nominal\"}}, \"title\": \"Column completeness by source dataset\", \"transform\": [{\"joinaggregate\": [{\"op\": \"mean\", \"field\": \"completeness\", \"as\": \"mean_comp\"}], \"groupby\": [\"column_name\"]}]}, {\"mark\": {\"type\": \"text\"}, \"encoding\": {\"color\": {\"condition\": {\"test\": \"datum['completeness'] < 0.5\", \"value\": \"white\"}, \"value\": \"black\"}, \"text\": {\"field\": \"completeness\", \"format\": \".0%\", \"type\": \"quantitative\"}, \"x\": {\"axis\": {\"labelAngle\": 0}, \"field\": \"column_name\", \"sort\": {\"field\": \"mean_comp\", \"order\": \"descending\"}, \"type\": \"nominal\"}, \"y\": {\"field\": \"source_dataset\", \"type\": \"nominal\"}}, \"transform\": [{\"joinaggregate\": [{\"op\": \"mean\", \"field\": \"completeness\", \"as\": \"mean_comp\"}], \"groupby\": [\"column_name\"]}]}], \"data\": {\"name\": \"data-f48e1dea8f9323ec8bb090b5cca5810f\"}, \"height\": {\"step\": 40}, \"width\": {\"step\": 40}, \"$schema\": \"https://vega.github.io/schema/vega-lite/v5.9.3.json\", \"datasets\": {\"data-f48e1dea8f9323ec8bb090b5cca5810f\": [{\"source_dataset\": \"df_right\", \"column_name\": \"first_name\", \"total_null_rows\": 80, \"total_rows_inc_nulls\": 500, \"completeness\": 0.8399999737739563}, {\"source_dataset\": \"df_left\", \"column_name\": \"first_name\", \"total_null_rows\": 89, \"total_rows_inc_nulls\": 500, \"completeness\": 0.8220000267028809}, {\"source_dataset\": \"df_left\", \"column_name\": \"surname\", \"total_null_rows\": 87, \"total_rows_inc_nulls\": 500, \"completeness\": 0.8259999752044678}, {\"source_dataset\": \"df_right\", \"column_name\": \"surname\", \"total_null_rows\": 94, \"total_rows_inc_nulls\": 500, \"completeness\": 0.8119999766349792}, {\"source_dataset\": \"df_right\", \"column_name\": \"dob\", \"total_null_rows\": 0, \"total_rows_inc_nulls\": 500, \"completeness\": 1.0}, {\"source_dataset\": \"df_left\", \"column_name\": \"dob\", \"total_null_rows\": 0, \"total_rows_inc_nulls\": 500, \"completeness\": 1.0}, {\"source_dataset\": \"df_left\", \"column_name\": \"city\", \"total_null_rows\": 100, \"total_rows_inc_nulls\": 500, \"completeness\": 0.800000011920929}, {\"source_dataset\": \"df_right\", \"column_name\": \"city\", \"total_null_rows\": 87, \"total_rows_inc_nulls\": 500, \"completeness\": 0.8259999752044678}, {\"source_dataset\": \"df_left\", \"column_name\": \"email\", \"total_null_rows\": 99, \"total_rows_inc_nulls\": 500, \"completeness\": 0.8019999861717224}, {\"source_dataset\": \"df_right\", \"column_name\": \"email\", \"total_null_rows\": 112, \"total_rows_inc_nulls\": 500, \"completeness\": 0.7760000228881836}]}}, {\"mode\": \"vega-lite\"});\n",
       "</script>"
      ],
      "text/plain": [
       "alt.LayerChart(...)"
      ]
     },
     "execution_count": 6,
     "metadata": {},
     "output_type": "execute_result"
    }
   ],
   "source": [
    "from splink.exploratory import completeness_chart\n",
    "\n",
    "completeness_chart(\n",
    "    [df_l, df_r],\n",
    "    cols=[\"first_name\", \"surname\", \"dob\", \"city\", \"email\"],\n",
    "    db_api=DuckDBAPI(),\n",
    "    table_names_for_chart=[\"df_left\", \"df_right\"],\n",
    ")\n"
   ]
  },
  {
   "cell_type": "code",
   "execution_count": 7,
   "metadata": {},
   "outputs": [
    {
     "data": {
      "text/plain": [
       "unique_id       0\n",
       "first_name     89\n",
       "surname        87\n",
       "dob             0\n",
       "city          100\n",
       "email          99\n",
       "cluster         0\n",
       "dtype: int64"
      ]
     },
     "execution_count": 7,
     "metadata": {},
     "output_type": "execute_result"
    }
   ],
   "source": [
    "df_l.isnull().sum()"
   ]
  },
  {
   "cell_type": "code",
   "execution_count": 8,
   "metadata": {},
   "outputs": [
    {
     "name": "stderr",
     "output_type": "stream",
     "text": [
      "Probability two random records match is estimated to be  0.00321.\n",
      "This means that amongst all possible pairwise record comparisons, one in 311.94 are expected to match.  With 250,000 total possible comparisons, we expect a total of around 801.43 matching pairs\n"
     ]
    }
   ],
   "source": [
    "deterministic_rules = [\n",
    "    \"l.first_name = r.first_name and levenshtein(r.dob, l.dob) <= 1\",\n",
    "    \"l.surname = r.surname and levenshtein(r.dob, l.dob) <= 1\",\n",
    "    \"l.first_name = r.first_name and levenshtein(r.surname, l.surname) <= 2\",\n",
    "    block_on(\"email\"),\n",
    "]\n",
    "\n",
    "\n",
    "linker.training.estimate_probability_two_random_records_match(deterministic_rules, recall=0.7)"
   ]
  },
  {
   "cell_type": "code",
   "execution_count": 9,
   "metadata": {},
   "outputs": [
    {
     "name": "stderr",
     "output_type": "stream",
     "text": [
      "You are using the default value for `max_pairs`, which may be too small and thus lead to inaccurate estimates for your model's u-parameters. Consider increasing to 1e8 or 1e9, which will result in more accurate estimates, but with a longer run time.\n",
      "----- Estimating u probabilities using random sampling -----\n",
      "\n",
      "Estimated u probabilities using random sampling\n",
      "\n",
      "Your model is not yet fully trained. Missing estimates for:\n",
      "    - first_name (no m values are trained).\n",
      "    - surname (no m values are trained).\n",
      "    - dob (no m values are trained).\n",
      "    - city (no m values are trained).\n",
      "    - email (no m values are trained).\n"
     ]
    }
   ],
   "source": [
    "linker.training.estimate_u_using_random_sampling(max_pairs=1e6, seed=1)"
   ]
  },
  {
   "cell_type": "code",
   "execution_count": 10,
   "metadata": {},
   "outputs": [
    {
     "name": "stderr",
     "output_type": "stream",
     "text": [
      "\n",
      "----- Starting EM training session -----\n",
      "\n",
      "Estimating the m probabilities of the model by blocking on:\n",
      "l.\"dob\" = r.\"dob\"\n",
      "\n",
      "Parameter estimates will be made for the following comparison(s):\n",
      "    - first_name\n",
      "    - surname\n",
      "    - city\n",
      "    - email\n",
      "\n",
      "Parameter estimates cannot be made for the following comparison(s) since they are used in the blocking rules: \n",
      "    - dob\n",
      "\n",
      "WARNING:\n",
      "Level Jaro-Winkler >0.88 on username on comparison email not observed in dataset, unable to train m value\n",
      "\n",
      "Iteration 1: Largest change in params was -0.435 in the m_probability of surname, level `Exact match on surname`\n",
      "Iteration 2: Largest change in params was 0.113 in probability_two_random_records_match\n",
      "Iteration 3: Largest change in params was 0.0387 in probability_two_random_records_match\n",
      "Iteration 4: Largest change in params was 0.0138 in probability_two_random_records_match\n",
      "Iteration 5: Largest change in params was 0.00569 in probability_two_random_records_match\n",
      "Iteration 6: Largest change in params was 0.00256 in probability_two_random_records_match\n",
      "Iteration 7: Largest change in params was 0.0012 in probability_two_random_records_match\n",
      "Iteration 8: Largest change in params was 0.000576 in probability_two_random_records_match\n",
      "Iteration 9: Largest change in params was 0.000279 in probability_two_random_records_match\n",
      "Iteration 10: Largest change in params was 0.000135 in probability_two_random_records_match\n",
      "Iteration 11: Largest change in params was 6.6e-05 in probability_two_random_records_match\n",
      "\n",
      "EM converged after 11 iterations\n",
      "m probability not trained for email - Jaro-Winkler >0.88 on username (comparison vector value: 1). This usually means the comparison level was never observed in the training data.\n",
      "\n",
      "Your model is not yet fully trained. Missing estimates for:\n",
      "    - dob (no m values are trained).\n",
      "    - email (some m values are not trained).\n",
      "\n",
      "----- Starting EM training session -----\n",
      "\n",
      "Estimating the m probabilities of the model by blocking on:\n",
      "l.\"email\" = r.\"email\"\n",
      "\n",
      "Parameter estimates will be made for the following comparison(s):\n",
      "    - first_name\n",
      "    - surname\n",
      "    - dob\n",
      "    - city\n",
      "\n",
      "Parameter estimates cannot be made for the following comparison(s) since they are used in the blocking rules: \n",
      "    - email\n",
      "\n",
      "Iteration 1: Largest change in params was -0.488 in the m_probability of dob, level `Exact match on date of birth`\n",
      "Iteration 2: Largest change in params was 0.0924 in probability_two_random_records_match\n",
      "Iteration 3: Largest change in params was 0.0203 in probability_two_random_records_match\n",
      "Iteration 4: Largest change in params was 0.0068 in probability_two_random_records_match\n",
      "Iteration 5: Largest change in params was 0.00265 in probability_two_random_records_match\n",
      "Iteration 6: Largest change in params was 0.0011 in probability_two_random_records_match\n",
      "Iteration 7: Largest change in params was 0.000472 in probability_two_random_records_match\n",
      "Iteration 8: Largest change in params was 0.000205 in probability_two_random_records_match\n",
      "Iteration 9: Largest change in params was 8.95e-05 in probability_two_random_records_match\n",
      "\n",
      "EM converged after 9 iterations\n",
      "\n",
      "Your model is not yet fully trained. Missing estimates for:\n",
      "    - email (some m values are not trained).\n",
      "\n",
      "----- Starting EM training session -----\n",
      "\n",
      "Estimating the m probabilities of the model by blocking on:\n",
      "l.\"first_name\" = r.\"first_name\"\n",
      "\n",
      "Parameter estimates will be made for the following comparison(s):\n",
      "    - surname\n",
      "    - dob\n",
      "    - city\n",
      "    - email\n",
      "\n",
      "Parameter estimates cannot be made for the following comparison(s) since they are used in the blocking rules: \n",
      "    - first_name\n",
      "\n",
      "Iteration 1: Largest change in params was -0.184 in the m_probability of surname, level `All other comparisons`\n",
      "Iteration 2: Largest change in params was -0.0144 in the m_probability of surname, level `All other comparisons`\n",
      "Iteration 3: Largest change in params was -0.00286 in the m_probability of surname, level `All other comparisons`\n",
      "Iteration 4: Largest change in params was -0.000702 in the m_probability of surname, level `All other comparisons`\n",
      "Iteration 5: Largest change in params was -0.000277 in the m_probability of email, level `Jaro-Winkler >0.88 on username`\n",
      "Iteration 6: Largest change in params was -0.000218 in the m_probability of email, level `Jaro-Winkler >0.88 on username`\n",
      "Iteration 7: Largest change in params was -0.000176 in the m_probability of email, level `Jaro-Winkler >0.88 on username`\n",
      "Iteration 8: Largest change in params was -0.000145 in the m_probability of email, level `Jaro-Winkler >0.88 on username`\n",
      "Iteration 9: Largest change in params was 0.00073 in the m_probability of email, level `All other comparisons`\n",
      "Iteration 10: Largest change in params was 0.00754 in the m_probability of email, level `All other comparisons`\n",
      "Iteration 11: Largest change in params was 0.00195 in the m_probability of email, level `All other comparisons`\n",
      "Iteration 12: Largest change in params was 0.000217 in the m_probability of email, level `All other comparisons`\n",
      "Iteration 13: Largest change in params was -7.03e-05 in the m_probability of email, level `Jaro-Winkler >0.88 on username`\n",
      "\n",
      "EM converged after 13 iterations\n",
      "\n",
      "Your model is fully trained. All comparisons have at least one estimate for their m and u values\n"
     ]
    }
   ],
   "source": [
    "session_dob = linker.training.estimate_parameters_using_expectation_maximisation(block_on(\"dob\"))\n",
    "session_email = linker.training.estimate_parameters_using_expectation_maximisation(\n",
    "    block_on(\"email\")\n",
    ")\n",
    "session_first_name = linker.training.estimate_parameters_using_expectation_maximisation(\n",
    "    block_on(\"first_name\")\n",
    ")"
   ]
  },
  {
   "cell_type": "code",
   "execution_count": 11,
   "metadata": {},
   "outputs": [
    {
     "name": "stderr",
     "output_type": "stream",
     "text": [
      "Blocking time: 0.02 seconds\n",
      "Predict time: 0.40 seconds\n"
     ]
    }
   ],
   "source": [
    "results = linker.inference.predict(threshold_match_probability=0.9)"
   ]
  },
  {
   "cell_type": "code",
   "execution_count": 15,
   "metadata": {},
   "outputs": [],
   "source": [
    "a = results.as_pandas_dataframe()"
   ]
  },
  {
   "cell_type": "code",
   "execution_count": 16,
   "metadata": {},
   "outputs": [
    {
     "data": {
      "text/plain": [
       "count    428.000000\n",
       "mean       0.992857\n",
       "std        0.015899\n",
       "min        0.913469\n",
       "25%        0.996057\n",
       "50%        0.999724\n",
       "75%        0.999992\n",
       "max        1.000000\n",
       "Name: match_probability, dtype: float64"
      ]
     },
     "execution_count": 16,
     "metadata": {},
     "output_type": "execute_result"
    }
   ],
   "source": [
    "a.match_probability.describe()"
   ]
  },
  {
   "cell_type": "code",
   "execution_count": null,
   "metadata": {},
   "outputs": [],
   "source": []
  }
 ],
 "metadata": {
  "kernelspec": {
   "display_name": "base",
   "language": "python",
   "name": "python3"
  },
  "language_info": {
   "codemirror_mode": {
    "name": "ipython",
    "version": 3
   },
   "file_extension": ".py",
   "mimetype": "text/x-python",
   "name": "python",
   "nbconvert_exporter": "python",
   "pygments_lexer": "ipython3",
   "version": "3.9.13"
  }
 },
 "nbformat": 4,
 "nbformat_minor": 2
}
