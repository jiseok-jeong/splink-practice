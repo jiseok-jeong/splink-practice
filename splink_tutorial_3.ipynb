{
 "cells": [
  {
   "cell_type": "code",
   "execution_count": 1,
   "id": "482a6170",
   "metadata": {},
   "outputs": [
    {
     "data": {
      "text/plain": [
       "<splink.internals.blocking_rule_library.And at 0x21c9cb63fd0>"
      ]
     },
     "execution_count": 1,
     "metadata": {},
     "output_type": "execute_result"
    }
   ],
   "source": [
    "from splink import block_on\n",
    "block_on(\"first_name\", \"surname\")"
   ]
  },
  {
   "cell_type": "code",
   "execution_count": 2,
   "id": "43c07ba0",
   "metadata": {},
   "outputs": [
    {
     "data": {
      "text/plain": [
       "<splink.internals.blocking_rule_library.And at 0x21ca16e9790>"
      ]
     },
     "execution_count": 2,
     "metadata": {},
     "output_type": "execute_result"
    }
   ],
   "source": [
    "block_on(\"substr(first_name, 1, 2)\", \"surname\")"
   ]
  },
  {
   "cell_type": "code",
   "execution_count": 3,
   "id": "93432b1a",
   "metadata": {},
   "outputs": [
    {
     "data": {
      "text/plain": [
       "<splink.internals.blocking_rule_library.And at 0x21ca16e9eb0>"
      ]
     },
     "execution_count": 3,
     "metadata": {},
     "output_type": "execute_result"
    }
   ],
   "source": [
    "block_on('substr(first_name, 1, 2)', 'surname')"
   ]
  },
  {
   "cell_type": "code",
   "execution_count": 4,
   "id": "f5ea3616",
   "metadata": {},
   "outputs": [
    {
     "data": {
      "text/plain": [
       "<splink.internals.blocking_rule_library.And at 0x21c9cb63a60>"
      ]
     },
     "execution_count": 4,
     "metadata": {},
     "output_type": "execute_result"
    }
   ],
   "source": [
    "block_on('first_name', 'dob')"
   ]
  },
  {
   "cell_type": "code",
   "execution_count": 5,
   "id": "550f2370",
   "metadata": {},
   "outputs": [],
   "source": [
    "from splink import DuckDBAPI, block_on, splink_datasets\n",
    "\n",
    "df = splink_datasets.fake_1000"
   ]
  },
  {
   "cell_type": "code",
   "execution_count": 6,
   "id": "2eeb3173",
   "metadata": {},
   "outputs": [
    {
     "data": {
      "text/plain": [
       "{'number_of_comparisons_generated_pre_filter_conditions': 1632,\n",
       " 'number_of_comparisons_to_be_scored_post_filter_conditions': 473,\n",
       " 'filter_conditions_identified': '',\n",
       " 'equi_join_conditions_identified': 'SUBSTRING(l.first_name, 1, 1) = SUBSTRING(r.first_name, 1, 1) AND l.\"surname\" = r.\"surname\"',\n",
       " 'link_type_join_condition': 'where l.\"unique_id\" < r.\"unique_id\"'}"
      ]
     },
     "execution_count": 6,
     "metadata": {},
     "output_type": "execute_result"
    }
   ],
   "source": [
    "from splink.blocking_analysis import count_comparisons_from_blocking_rule\n",
    "\n",
    "db_api = DuckDBAPI()\n",
    "\n",
    "br = block_on('substr(first_name, 1, 1)', 'surname')\n",
    "\n",
    "counts = count_comparisons_from_blocking_rule(\n",
    "    table_or_tables=df,\n",
    "    blocking_rule=br,\n",
    "    link_type='dedupe_only',\n",
    "    db_api=db_api,\n",
    ")\n",
    "\n",
    "counts"
   ]
  },
  {
   "cell_type": "code",
   "execution_count": 8,
   "id": "7c947625",
   "metadata": {},
   "outputs": [
    {
     "data": {
      "text/plain": [
       "{'number_of_comparisons_generated_pre_filter_conditions': 4827,\n",
       " 'number_of_comparisons_to_be_scored_post_filter_conditions': 372,\n",
       " 'filter_conditions_identified': 'LEVENSHTEIN(l.surname, r.surname) < 2',\n",
       " 'equi_join_conditions_identified': 'l.first_name = r.first_name',\n",
       " 'link_type_join_condition': 'where l.\"unique_id\" < r.\"unique_id\"'}"
      ]
     },
     "execution_count": 8,
     "metadata": {},
     "output_type": "execute_result"
    }
   ],
   "source": [
    "br = \"l.first_name = r.first_name and levenshtein(l.surname, r.surname) < 2\"\n",
    "\n",
    "counts = count_comparisons_from_blocking_rule(\n",
    "    table_or_tables=df,\n",
    "    blocking_rule=br,\n",
    "    link_type=\"dedupe_only\",\n",
    "    db_api=db_api,\n",
    ")\n",
    "\n",
    "counts"
   ]
  },
  {
   "cell_type": "code",
   "execution_count": 9,
   "id": "b8240559",
   "metadata": {},
   "outputs": [
    {
     "name": "stdout",
     "output_type": "stream",
     "text": [
      "4.0.4\n"
     ]
    }
   ],
   "source": [
    "import splink\n",
    "print(splink.__version__)"
   ]
  },
  {
   "cell_type": "code",
   "execution_count": null,
   "id": "b5004a87",
   "metadata": {},
   "outputs": [],
   "source": []
  }
 ],
 "metadata": {
  "kernelspec": {
   "display_name": "Python 3 (ipykernel)",
   "language": "python",
   "name": "python3"
  },
  "language_info": {
   "codemirror_mode": {
    "name": "ipython",
    "version": 3
   },
   "file_extension": ".py",
   "mimetype": "text/x-python",
   "name": "python",
   "nbconvert_exporter": "python",
   "pygments_lexer": "ipython3",
   "version": "3.9.13"
  }
 },
 "nbformat": 4,
 "nbformat_minor": 5
}
