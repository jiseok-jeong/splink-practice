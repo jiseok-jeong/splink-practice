{
 "cells": [
  {
   "cell_type": "code",
   "execution_count": 6,
   "metadata": {},
   "outputs": [],
   "source": [
    "from faker import Faker\n",
    "import random\n",
    "import pandas as pd\n",
    "fake = Faker()"
   ]
  },
  {
   "cell_type": "code",
   "execution_count": 7,
   "metadata": {},
   "outputs": [],
   "source": [
    "def generate_custom_population(size=10000):\n",
    "    return pd.DataFrame({\n",
    "        'name': [fake.name() for _ in range(size)],\n",
    "        'age': [random.randint(18, 90) for _ in range(size)],\n",
    "        'state': [fake.state() for _ in range(size)],\n",
    "        'gender': [random.choice(['Male', 'Female']) for _ in range(size)],\n",
    "        'address': [fake.address() for _ in range(size)],\n",
    "    })"
   ]
  },
  {
   "cell_type": "code",
   "execution_count": 8,
   "metadata": {},
   "outputs": [],
   "source": [
    "custom_population = generate_custom_population(10000)"
   ]
  },
  {
   "cell_type": "code",
   "execution_count": 10,
   "metadata": {},
   "outputs": [],
   "source": [
    "custom_population['address'] = custom_population['address'].str.replace('\\n', ' ', regex=False)"
   ]
  },
  {
   "cell_type": "code",
   "execution_count": 11,
   "metadata": {},
   "outputs": [
    {
     "data": {
      "text/html": [
       "<div>\n",
       "<style scoped>\n",
       "    .dataframe tbody tr th:only-of-type {\n",
       "        vertical-align: middle;\n",
       "    }\n",
       "\n",
       "    .dataframe tbody tr th {\n",
       "        vertical-align: top;\n",
       "    }\n",
       "\n",
       "    .dataframe thead th {\n",
       "        text-align: right;\n",
       "    }\n",
       "</style>\n",
       "<table border=\"1\" class=\"dataframe\">\n",
       "  <thead>\n",
       "    <tr style=\"text-align: right;\">\n",
       "      <th></th>\n",
       "      <th>name</th>\n",
       "      <th>age</th>\n",
       "      <th>state</th>\n",
       "      <th>gender</th>\n",
       "      <th>address</th>\n",
       "    </tr>\n",
       "  </thead>\n",
       "  <tbody>\n",
       "    <tr>\n",
       "      <th>0</th>\n",
       "      <td>Charles Brady</td>\n",
       "      <td>62</td>\n",
       "      <td>Oklahoma</td>\n",
       "      <td>Female</td>\n",
       "      <td>203 Christopher Mews Suite 416 South Natalieha...</td>\n",
       "    </tr>\n",
       "    <tr>\n",
       "      <th>1</th>\n",
       "      <td>Eric Banks</td>\n",
       "      <td>69</td>\n",
       "      <td>North Dakota</td>\n",
       "      <td>Male</td>\n",
       "      <td>4953 Wright Forks Suite 254 West Tammyborough,...</td>\n",
       "    </tr>\n",
       "    <tr>\n",
       "      <th>2</th>\n",
       "      <td>Cody Jenkins</td>\n",
       "      <td>78</td>\n",
       "      <td>Virginia</td>\n",
       "      <td>Male</td>\n",
       "      <td>68406 Alexander Knolls Suite 470 Williamsbury,...</td>\n",
       "    </tr>\n",
       "    <tr>\n",
       "      <th>3</th>\n",
       "      <td>Mary Garcia</td>\n",
       "      <td>66</td>\n",
       "      <td>Kentucky</td>\n",
       "      <td>Female</td>\n",
       "      <td>123 Jones Trail North Emilyfort, MN 30882</td>\n",
       "    </tr>\n",
       "    <tr>\n",
       "      <th>4</th>\n",
       "      <td>Sonia Gibson</td>\n",
       "      <td>25</td>\n",
       "      <td>Nebraska</td>\n",
       "      <td>Male</td>\n",
       "      <td>550 Martin Forges Apt. 168 Richardsonland, NJ ...</td>\n",
       "    </tr>\n",
       "  </tbody>\n",
       "</table>\n",
       "</div>"
      ],
      "text/plain": [
       "            name  age         state  gender  \\\n",
       "0  Charles Brady   62      Oklahoma  Female   \n",
       "1     Eric Banks   69  North Dakota    Male   \n",
       "2   Cody Jenkins   78      Virginia    Male   \n",
       "3    Mary Garcia   66      Kentucky  Female   \n",
       "4   Sonia Gibson   25      Nebraska    Male   \n",
       "\n",
       "                                             address  \n",
       "0  203 Christopher Mews Suite 416 South Natalieha...  \n",
       "1  4953 Wright Forks Suite 254 West Tammyborough,...  \n",
       "2  68406 Alexander Knolls Suite 470 Williamsbury,...  \n",
       "3          123 Jones Trail North Emilyfort, MN 30882  \n",
       "4  550 Martin Forges Apt. 168 Richardsonland, NJ ...  "
      ]
     },
     "execution_count": 11,
     "metadata": {},
     "output_type": "execute_result"
    }
   ],
   "source": [
    "custom_population.head()"
   ]
  },
  {
   "cell_type": "code",
   "execution_count": null,
   "metadata": {},
   "outputs": [],
   "source": []
  }
 ],
 "metadata": {
  "kernelspec": {
   "display_name": "base",
   "language": "python",
   "name": "python3"
  },
  "language_info": {
   "codemirror_mode": {
    "name": "ipython",
    "version": 3
   },
   "file_extension": ".py",
   "mimetype": "text/x-python",
   "name": "python",
   "nbconvert_exporter": "python",
   "pygments_lexer": "ipython3",
   "version": "3.9.13"
  }
 },
 "nbformat": 4,
 "nbformat_minor": 2
}
