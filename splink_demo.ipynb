{
 "cells": [
  {
   "cell_type": "code",
   "execution_count": 1,
   "id": "1384cb6f",
   "metadata": {},
   "outputs": [],
   "source": [
    "import splink.comparison_library as cl\n",
    "from splink import DuckDBAPI, Linker, SettingsCreator, block_on, splink_datasets"
   ]
  },
  {
   "cell_type": "code",
   "execution_count": 2,
   "id": "470499c8",
   "metadata": {},
   "outputs": [],
   "source": [
    "db_api = DuckDBAPI()"
   ]
  },
  {
   "cell_type": "code",
   "execution_count": 3,
   "id": "d512571b",
   "metadata": {},
   "outputs": [],
   "source": [
    "df = splink_datasets.fake_1000"
   ]
  },
  {
   "cell_type": "code",
   "execution_count": 4,
   "id": "0d5b88c3",
   "metadata": {},
   "outputs": [
    {
     "data": {
      "text/html": [
       "<div>\n",
       "<style scoped>\n",
       "    .dataframe tbody tr th:only-of-type {\n",
       "        vertical-align: middle;\n",
       "    }\n",
       "\n",
       "    .dataframe tbody tr th {\n",
       "        vertical-align: top;\n",
       "    }\n",
       "\n",
       "    .dataframe thead th {\n",
       "        text-align: right;\n",
       "    }\n",
       "</style>\n",
       "<table border=\"1\" class=\"dataframe\">\n",
       "  <thead>\n",
       "    <tr style=\"text-align: right;\">\n",
       "      <th></th>\n",
       "      <th>unique_id</th>\n",
       "      <th>first_name</th>\n",
       "      <th>surname</th>\n",
       "      <th>dob</th>\n",
       "      <th>city</th>\n",
       "      <th>email</th>\n",
       "      <th>cluster</th>\n",
       "    </tr>\n",
       "  </thead>\n",
       "  <tbody>\n",
       "    <tr>\n",
       "      <th>0</th>\n",
       "      <td>0</td>\n",
       "      <td>Robert</td>\n",
       "      <td>Alan</td>\n",
       "      <td>1971-06-24</td>\n",
       "      <td>NaN</td>\n",
       "      <td>robert255@smith.net</td>\n",
       "      <td>0</td>\n",
       "    </tr>\n",
       "    <tr>\n",
       "      <th>1</th>\n",
       "      <td>1</td>\n",
       "      <td>Robert</td>\n",
       "      <td>Allen</td>\n",
       "      <td>1971-05-24</td>\n",
       "      <td>NaN</td>\n",
       "      <td>roberta25@smith.net</td>\n",
       "      <td>0</td>\n",
       "    </tr>\n",
       "  </tbody>\n",
       "</table>\n",
       "</div>"
      ],
      "text/plain": [
       "   unique_id first_name surname         dob city                email  cluster\n",
       "0          0     Robert    Alan  1971-06-24  NaN  robert255@smith.net        0\n",
       "1          1     Robert   Allen  1971-05-24  NaN  roberta25@smith.net        0"
      ]
     },
     "execution_count": 4,
     "metadata": {},
     "output_type": "execute_result"
    }
   ],
   "source": [
    "df.head(2)"
   ]
  },
  {
   "cell_type": "code",
   "execution_count": 5,
   "id": "6baec072",
   "metadata": {},
   "outputs": [],
   "source": [
    "settings = SettingsCreator(\n",
    "    link_type = \"dedupe_only\",\n",
    "    comparisons=[\n",
    "        cl.NameComparison(\"first_name\"),\n",
    "        cl.JaroAtThresholds(\"surname\"),\n",
    "        cl.DateOfBirthComparison(\n",
    "            \"dob\",\n",
    "            input_is_string=True,\n",
    "        ),\n",
    "        cl.ExactMatch(\"city\").configure(term_frequency_adjustments=True),\n",
    "        cl.EmailComparison(\"email\"),\n",
    "    ],\n",
    "    blocking_rules_to_generate_predictions=[\n",
    "        block_on(\"SUBSTRING(first_name, 1, 1)\", \"dob\"),\n",
    "        block_on(\"SUBSTRING(surname, 1, 1)\"),\n",
    "    ]\n",
    ")"
   ]
  },
  {
   "cell_type": "code",
   "execution_count": 8,
   "id": "b85fd2e9",
   "metadata": {},
   "outputs": [],
   "source": [
    "linker = Linker(df, settings, db_api)"
   ]
  },
  {
   "cell_type": "code",
   "execution_count": 9,
   "id": "9bb4522e",
   "metadata": {},
   "outputs": [
    {
     "ename": "AttributeError",
     "evalue": "'Linker' object has no attribute 'profile_columns'",
     "output_type": "error",
     "traceback": [
      "\u001b[1;31m---------------------------------------------------------------------------\u001b[0m",
      "\u001b[1;31mAttributeError\u001b[0m                            Traceback (most recent call last)",
      "\u001b[1;32m~\\AppData\\Local\\Temp\\ipykernel_24228\\2115517508.py\u001b[0m in \u001b[0;36m<module>\u001b[1;34m\u001b[0m\n\u001b[1;32m----> 1\u001b[1;33m \u001b[0mlinker\u001b[0m\u001b[1;33m.\u001b[0m\u001b[0mprofile_columns\u001b[0m\u001b[1;33m(\u001b[0m\u001b[1;33m[\u001b[0m\u001b[1;34m'first_name'\u001b[0m\u001b[1;33m,\u001b[0m \u001b[1;34m'city'\u001b[0m\u001b[1;33m]\u001b[0m\u001b[1;33m,\u001b[0m \u001b[0mtop_n\u001b[0m\u001b[1;33m=\u001b[0m\u001b[1;36m10\u001b[0m\u001b[1;33m,\u001b[0m \u001b[0mbottom_n\u001b[0m\u001b[1;33m=\u001b[0m\u001b[1;36m5\u001b[0m\u001b[1;33m)\u001b[0m\u001b[1;33m\u001b[0m\u001b[1;33m\u001b[0m\u001b[0m\n\u001b[0m",
      "\u001b[1;31mAttributeError\u001b[0m: 'Linker' object has no attribute 'profile_columns'"
     ]
    }
   ],
   "source": [
    "linker.profile_columns(['first_name', 'city'], top_n=10, bottom_n=5)"
   ]
  },
  {
   "cell_type": "code",
   "execution_count": 40,
   "id": "020ace18",
   "metadata": {},
   "outputs": [
    {
     "name": "stderr",
     "output_type": "stream",
     "text": [
      "Probability two random records match is estimated to be  0.00407.\n",
      "This means that amongst all possible pairwise record comparisons, one in 245.89 are expected to match.  With 499,500 total possible comparisons, we expect a total of around 2,031.43 matching pairs\n"
     ]
    }
   ],
   "source": [
    "linker.training.estimate_probability_two_random_records_match(\n",
    "    [block_on(\"SUBSTRING(first_name, 1, 1)\", \"SUBSTRING(surname, 1, 1)\")],\n",
    "    recall = 0.7\n",
    ")"
   ]
  },
  {
   "cell_type": "code",
   "execution_count": 41,
   "id": "1c1107f2",
   "metadata": {},
   "outputs": [
    {
     "name": "stderr",
     "output_type": "stream",
     "text": [
      "You are using the default value for `max_pairs`, which may be too small and thus lead to inaccurate estimates for your model's u-parameters. Consider increasing to 1e8 or 1e9, which will result in more accurate estimates, but with a longer run time.\n",
      "----- Estimating u probabilities using random sampling -----\n",
      "\n",
      "Estimated u probabilities using random sampling\n",
      "\n",
      "Your model is not yet fully trained. Missing estimates for:\n",
      "    - first_name (no m values are trained).\n",
      "    - surname (no m values are trained).\n",
      "    - dob (no m values are trained).\n",
      "    - city (no m values are trained).\n",
      "    - email (no m values are trained).\n"
     ]
    }
   ],
   "source": [
    "linker.training.estimate_u_using_random_sampling(max_pairs=1e6)"
   ]
  },
  {
   "cell_type": "code",
   "execution_count": 43,
   "id": "91eded1d",
   "metadata": {},
   "outputs": [
    {
     "name": "stderr",
     "output_type": "stream",
     "text": [
      "\n",
      "----- Starting EM training session -----\n",
      "\n",
      "Estimating the m probabilities of the model by blocking on:\n",
      "(SUBSTRING(l.first_name, 1, 1) = SUBSTRING(r.first_name, 1, 1)) AND (SUBSTRING(l.surname, 1, 1) = SUBSTRING(r.surname, 1, 1))\n",
      "\n",
      "Parameter estimates will be made for the following comparison(s):\n",
      "    - dob\n",
      "    - city\n",
      "    - email\n",
      "\n",
      "Parameter estimates cannot be made for the following comparison(s) since they are used in the blocking rules: \n",
      "    - first_name\n",
      "    - surname\n",
      "\n",
      "Iteration 1: Largest change in params was -0.246 in probability_two_random_records_match\n",
      "Iteration 2: Largest change in params was -0.0916 in probability_two_random_records_match\n",
      "Iteration 3: Largest change in params was -0.0721 in the m_probability of email, level `All other comparisons`\n",
      "Iteration 4: Largest change in params was -0.0607 in the m_probability of email, level `All other comparisons`\n",
      "Iteration 5: Largest change in params was -0.0391 in the m_probability of email, level `All other comparisons`\n",
      "Iteration 6: Largest change in params was -0.0221 in the m_probability of email, level `All other comparisons`\n",
      "Iteration 7: Largest change in params was -0.0119 in the m_probability of email, level `All other comparisons`\n",
      "Iteration 8: Largest change in params was -0.00655 in the m_probability of email, level `All other comparisons`\n",
      "Iteration 9: Largest change in params was -0.00373 in the m_probability of email, level `All other comparisons`\n",
      "Iteration 10: Largest change in params was -0.00221 in the m_probability of email, level `All other comparisons`\n",
      "Iteration 11: Largest change in params was -0.00136 in the m_probability of email, level `All other comparisons`\n",
      "Iteration 12: Largest change in params was -0.000862 in the m_probability of email, level `All other comparisons`\n",
      "Iteration 13: Largest change in params was -0.000558 in the m_probability of email, level `All other comparisons`\n",
      "Iteration 14: Largest change in params was -0.000366 in the m_probability of email, level `All other comparisons`\n",
      "Iteration 15: Largest change in params was -0.000243 in the m_probability of email, level `All other comparisons`\n",
      "Iteration 16: Largest change in params was -0.000163 in the m_probability of email, level `All other comparisons`\n",
      "Iteration 17: Largest change in params was -0.000109 in the m_probability of email, level `All other comparisons`\n",
      "Iteration 18: Largest change in params was -7.36e-05 in the m_probability of email, level `All other comparisons`\n",
      "\n",
      "EM converged after 18 iterations\n",
      "\n",
      "Your model is not yet fully trained. Missing estimates for:\n",
      "    - first_name (no m values are trained).\n",
      "    - surname (no m values are trained).\n"
     ]
    },
    {
     "data": {
      "text/plain": [
       "<EMTrainingSession, blocking on (SUBSTRING(l.first_name, 1, 1) = SUBSTRING(r.first_name, 1, 1)) AND (SUBSTRING(l.surname, 1, 1) = SUBSTRING(r.surname, 1, 1)), deactivating comparisons first_name, surname>"
      ]
     },
     "execution_count": 43,
     "metadata": {},
     "output_type": "execute_result"
    }
   ],
   "source": [
    "linker.training.estimate_parameters_using_expectation_maximisation(\n",
    "    block_on(\"SUBSTRING(first_name, 1, 1)\", \"SUBSTRING(surname, 1, 1)\")\n",
    ")"
   ]
  },
  {
   "cell_type": "code",
   "execution_count": 44,
   "id": "2aa466f9",
   "metadata": {},
   "outputs": [
    {
     "name": "stderr",
     "output_type": "stream",
     "text": [
      "\n",
      "----- Starting EM training session -----\n",
      "\n",
      "Estimating the m probabilities of the model by blocking on:\n",
      "(l.\"first_name\" = r.\"first_name\") AND (l.\"surname\" = r.\"surname\")\n",
      "\n",
      "Parameter estimates will be made for the following comparison(s):\n",
      "    - dob\n",
      "    - city\n",
      "    - email\n",
      "\n",
      "Parameter estimates cannot be made for the following comparison(s) since they are used in the blocking rules: \n",
      "    - first_name\n",
      "    - surname\n",
      "\n",
      "WARNING:\n",
      "Level Jaro-Winkler >0.88 on username on comparison email not observed in dataset, unable to train m value\n",
      "\n",
      "Iteration 1: Largest change in params was -0.0255 in the m_probability of email, level `Jaro-Winkler >0.88 on username`\n",
      "Iteration 2: Largest change in params was -0.00255 in probability_two_random_records_match\n",
      "Iteration 3: Largest change in params was -0.000957 in probability_two_random_records_match\n",
      "Iteration 4: Largest change in params was -0.000347 in probability_two_random_records_match\n",
      "Iteration 5: Largest change in params was -0.000123 in probability_two_random_records_match\n",
      "Iteration 6: Largest change in params was -4.33e-05 in probability_two_random_records_match\n",
      "\n",
      "EM converged after 6 iterations\n",
      "m probability not trained for email - Jaro-Winkler >0.88 on username (comparison vector value: 1). This usually means the comparison level was never observed in the training data.\n",
      "\n",
      "Your model is not yet fully trained. Missing estimates for:\n",
      "    - first_name (no m values are trained).\n",
      "    - surname (no m values are trained).\n"
     ]
    },
    {
     "data": {
      "text/plain": [
       "<EMTrainingSession, blocking on (l.\"first_name\" = r.\"first_name\") AND (l.\"surname\" = r.\"surname\"), deactivating comparisons first_name, surname>"
      ]
     },
     "execution_count": 44,
     "metadata": {},
     "output_type": "execute_result"
    }
   ],
   "source": [
    "linker.training.estimate_parameters_using_expectation_maximisation(\n",
    "    block_on(\"first_name\", \"surname\")\n",
    ")"
   ]
  },
  {
   "cell_type": "code",
   "execution_count": 45,
   "id": "e0c4a77b",
   "metadata": {},
   "outputs": [
    {
     "name": "stderr",
     "output_type": "stream",
     "text": [
      "\n",
      "----- Starting EM training session -----\n",
      "\n",
      "Estimating the m probabilities of the model by blocking on:\n",
      "l.\"email\" = r.\"email\"\n",
      "\n",
      "Parameter estimates will be made for the following comparison(s):\n",
      "    - first_name\n",
      "    - surname\n",
      "    - dob\n",
      "    - city\n",
      "\n",
      "Parameter estimates cannot be made for the following comparison(s) since they are used in the blocking rules: \n",
      "    - email\n",
      "\n",
      "Iteration 1: Largest change in params was -0.39 in the m_probability of surname, level `Exact match on surname`\n",
      "Iteration 2: Largest change in params was 0.0811 in probability_two_random_records_match\n",
      "Iteration 3: Largest change in params was 0.0351 in the m_probability of surname, level `All other comparisons`\n",
      "Iteration 4: Largest change in params was 0.0117 in probability_two_random_records_match\n",
      "Iteration 5: Largest change in params was 0.00485 in probability_two_random_records_match\n",
      "Iteration 6: Largest change in params was 0.00226 in probability_two_random_records_match\n",
      "Iteration 7: Largest change in params was 0.00112 in probability_two_random_records_match\n",
      "Iteration 8: Largest change in params was 0.000577 in probability_two_random_records_match\n",
      "Iteration 9: Largest change in params was 0.000303 in probability_two_random_records_match\n",
      "Iteration 10: Largest change in params was 0.00016 in probability_two_random_records_match\n",
      "Iteration 11: Largest change in params was 8.55e-05 in probability_two_random_records_match\n",
      "\n",
      "EM converged after 11 iterations\n",
      "\n",
      "Your model is fully trained. All comparisons have at least one estimate for their m and u values\n"
     ]
    },
    {
     "data": {
      "text/plain": [
       "<EMTrainingSession, blocking on l.\"email\" = r.\"email\", deactivating comparisons email>"
      ]
     },
     "execution_count": 45,
     "metadata": {},
     "output_type": "execute_result"
    }
   ],
   "source": [
    "linker.training.estimate_parameters_using_expectation_maximisation(block_on(\"email\"))"
   ]
  },
  {
   "cell_type": "code",
   "execution_count": 46,
   "id": "e9f77286",
   "metadata": {},
   "outputs": [
    {
     "name": "stderr",
     "output_type": "stream",
     "text": [
      "Blocking time: 0.01 seconds\n",
      "Predict time: 1.26 seconds\n"
     ]
    }
   ],
   "source": [
    "pairwise_predictions = linker.inference.predict(threshold_match_weight = -5)"
   ]
  },
  {
   "cell_type": "code",
   "execution_count": 47,
   "id": "bb18bd7f",
   "metadata": {},
   "outputs": [
    {
     "name": "stderr",
     "output_type": "stream",
     "text": [
      "Completed iteration 1, num representatives needing updating: 3\n",
      "Completed iteration 2, num representatives needing updating: 0\n"
     ]
    }
   ],
   "source": [
    "clusters = linker.clustering.cluster_pairwise_predictions_at_threshold(\n",
    "    pairwise_predictions, 0.95\n",
    ")"
   ]
  },
  {
   "cell_type": "code",
   "execution_count": 48,
   "id": "9777c9de",
   "metadata": {},
   "outputs": [],
   "source": [
    "df_clusters = clusters.as_pandas_dataframe()"
   ]
  },
  {
   "cell_type": "code",
   "execution_count": 49,
   "id": "f3bf412c",
   "metadata": {},
   "outputs": [],
   "source": [
    "deduped_df = df_clusters.drop_duplicates(subset=['cluster_id'], keep = 'first')"
   ]
  },
  {
   "cell_type": "code",
   "execution_count": 50,
   "id": "101d0bf1",
   "metadata": {
    "scrolled": true
   },
   "outputs": [
    {
     "data": {
      "text/html": [
       "<div>\n",
       "<style scoped>\n",
       "    .dataframe tbody tr th:only-of-type {\n",
       "        vertical-align: middle;\n",
       "    }\n",
       "\n",
       "    .dataframe tbody tr th {\n",
       "        vertical-align: top;\n",
       "    }\n",
       "\n",
       "    .dataframe thead th {\n",
       "        text-align: right;\n",
       "    }\n",
       "</style>\n",
       "<table border=\"1\" class=\"dataframe\">\n",
       "  <thead>\n",
       "    <tr style=\"text-align: right;\">\n",
       "      <th></th>\n",
       "      <th>cluster_id</th>\n",
       "      <th>unique_id</th>\n",
       "      <th>first_name</th>\n",
       "      <th>surname</th>\n",
       "      <th>dob</th>\n",
       "      <th>city</th>\n",
       "      <th>email</th>\n",
       "      <th>cluster</th>\n",
       "    </tr>\n",
       "  </thead>\n",
       "  <tbody>\n",
       "    <tr>\n",
       "      <th>0</th>\n",
       "      <td>4</td>\n",
       "      <td>4</td>\n",
       "      <td>Grace</td>\n",
       "      <td>None</td>\n",
       "      <td>1997-04-26</td>\n",
       "      <td>Hull</td>\n",
       "      <td>grace.kelly52@jones.com</td>\n",
       "      <td>1</td>\n",
       "    </tr>\n",
       "    <tr>\n",
       "      <th>1</th>\n",
       "      <td>8</td>\n",
       "      <td>9</td>\n",
       "      <td>Evie</td>\n",
       "      <td>Dean</td>\n",
       "      <td>2015-03-03</td>\n",
       "      <td>Pootsmruth</td>\n",
       "      <td>evihd56@earris-bailey.net</td>\n",
       "      <td>3</td>\n",
       "    </tr>\n",
       "    <tr>\n",
       "      <th>2</th>\n",
       "      <td>14</td>\n",
       "      <td>14</td>\n",
       "      <td>Oliver</td>\n",
       "      <td>Griffiths</td>\n",
       "      <td>1991-10-26</td>\n",
       "      <td>Lunton</td>\n",
       "      <td>o.griffiths90@reyes-coleman.com</td>\n",
       "      <td>5</td>\n",
       "    </tr>\n",
       "    <tr>\n",
       "      <th>3</th>\n",
       "      <td>22</td>\n",
       "      <td>24</td>\n",
       "      <td>Thoas</td>\n",
       "      <td>Green</td>\n",
       "      <td>1974-10-05</td>\n",
       "      <td>London</td>\n",
       "      <td>thomas.green@clark.org</td>\n",
       "      <td>10</td>\n",
       "    </tr>\n",
       "    <tr>\n",
       "      <th>4</th>\n",
       "      <td>26</td>\n",
       "      <td>26</td>\n",
       "      <td>Thomas</td>\n",
       "      <td>Gabriel</td>\n",
       "      <td>1976-09-15</td>\n",
       "      <td>Loodon</td>\n",
       "      <td>gabriel.t54@nnichls.info</td>\n",
       "      <td>11</td>\n",
       "    </tr>\n",
       "    <tr>\n",
       "      <th>...</th>\n",
       "      <td>...</td>\n",
       "      <td>...</td>\n",
       "      <td>...</td>\n",
       "      <td>...</td>\n",
       "      <td>...</td>\n",
       "      <td>...</td>\n",
       "      <td>...</td>\n",
       "      <td>...</td>\n",
       "    </tr>\n",
       "    <tr>\n",
       "      <th>973</th>\n",
       "      <td>735</td>\n",
       "      <td>735</td>\n",
       "      <td>Georgi</td>\n",
       "      <td>None</td>\n",
       "      <td>2017-05-13</td>\n",
       "      <td>London</td>\n",
       "      <td>None</td>\n",
       "      <td>186</td>\n",
       "    </tr>\n",
       "    <tr>\n",
       "      <th>974</th>\n",
       "      <td>571</td>\n",
       "      <td>571</td>\n",
       "      <td>None</td>\n",
       "      <td>Turner</td>\n",
       "      <td>1997-04-24</td>\n",
       "      <td>Glasgow</td>\n",
       "      <td>None</td>\n",
       "      <td>140</td>\n",
       "    </tr>\n",
       "    <tr>\n",
       "      <th>990</th>\n",
       "      <td>421</td>\n",
       "      <td>421</td>\n",
       "      <td>Alfie</td>\n",
       "      <td>None</td>\n",
       "      <td>1995-12-10</td>\n",
       "      <td>London</td>\n",
       "      <td>ar20@miller-torres.org</td>\n",
       "      <td>110</td>\n",
       "    </tr>\n",
       "    <tr>\n",
       "      <th>993</th>\n",
       "      <td>744</td>\n",
       "      <td>744</td>\n",
       "      <td>Freddie</td>\n",
       "      <td>Carr</td>\n",
       "      <td>1992-08-01</td>\n",
       "      <td>Btournemoth</td>\n",
       "      <td>fcarr22@cook.com</td>\n",
       "      <td>189</td>\n",
       "    </tr>\n",
       "    <tr>\n",
       "      <th>999</th>\n",
       "      <td>831</td>\n",
       "      <td>831</td>\n",
       "      <td>Smith</td>\n",
       "      <td>Mason</td>\n",
       "      <td>1983-03-16</td>\n",
       "      <td>None</td>\n",
       "      <td>None</td>\n",
       "      <td>209</td>\n",
       "    </tr>\n",
       "  </tbody>\n",
       "</table>\n",
       "<p>446 rows × 8 columns</p>\n",
       "</div>"
      ],
      "text/plain": [
       "     cluster_id  unique_id first_name    surname         dob         city  \\\n",
       "0             4          4      Grace       None  1997-04-26         Hull   \n",
       "1             8          9       Evie       Dean  2015-03-03   Pootsmruth   \n",
       "2            14         14     Oliver  Griffiths  1991-10-26       Lunton   \n",
       "3            22         24      Thoas      Green  1974-10-05       London   \n",
       "4            26         26     Thomas    Gabriel  1976-09-15       Loodon   \n",
       "..          ...        ...        ...        ...         ...          ...   \n",
       "973         735        735     Georgi       None  2017-05-13       London   \n",
       "974         571        571       None     Turner  1997-04-24      Glasgow   \n",
       "990         421        421      Alfie       None  1995-12-10       London   \n",
       "993         744        744    Freddie       Carr  1992-08-01  Btournemoth   \n",
       "999         831        831      Smith      Mason  1983-03-16         None   \n",
       "\n",
       "                               email  cluster  \n",
       "0            grace.kelly52@jones.com        1  \n",
       "1          evihd56@earris-bailey.net        3  \n",
       "2    o.griffiths90@reyes-coleman.com        5  \n",
       "3             thomas.green@clark.org       10  \n",
       "4           gabriel.t54@nnichls.info       11  \n",
       "..                               ...      ...  \n",
       "973                             None      186  \n",
       "974                             None      140  \n",
       "990           ar20@miller-torres.org      110  \n",
       "993                 fcarr22@cook.com      189  \n",
       "999                             None      209  \n",
       "\n",
       "[446 rows x 8 columns]"
      ]
     },
     "execution_count": 50,
     "metadata": {},
     "output_type": "execute_result"
    }
   ],
   "source": [
    "deduped_df"
   ]
  },
  {
   "cell_type": "code",
   "execution_count": 32,
   "id": "1719813c",
   "metadata": {},
   "outputs": [
    {
     "data": {
      "text/plain": [
       "(1000, 8)"
      ]
     },
     "execution_count": 32,
     "metadata": {},
     "output_type": "execute_result"
    }
   ],
   "source": [
    "df_clusters.shape"
   ]
  },
  {
   "cell_type": "code",
   "execution_count": 33,
   "id": "2e36576e",
   "metadata": {},
   "outputs": [
    {
     "data": {
      "text/plain": [
       "(605, 8)"
      ]
     },
     "execution_count": 33,
     "metadata": {},
     "output_type": "execute_result"
    }
   ],
   "source": [
    "deduped_df.shape"
   ]
  },
  {
   "cell_type": "code",
   "execution_count": 51,
   "id": "c0185f58",
   "metadata": {},
   "outputs": [
    {
     "data": {
      "text/plain": [
       "(446, 8)"
      ]
     },
     "execution_count": 51,
     "metadata": {},
     "output_type": "execute_result"
    }
   ],
   "source": [
    "deduped_df.shape"
   ]
  },
  {
   "cell_type": "code",
   "execution_count": 52,
   "id": "0a7858de",
   "metadata": {},
   "outputs": [],
   "source": [
    "cluster_counts = df_clusters.groupby('cluster_id').size()\n",
    "nonunique_clusters = cluster_counts[cluster_counts > 1].index\n",
    "nonunique_df_clusters = df_clusters[df_clusters['cluster_id'].isin(nonunique_clusters)]"
   ]
  },
  {
   "cell_type": "code",
   "execution_count": 53,
   "id": "64f3e242",
   "metadata": {},
   "outputs": [
    {
     "data": {
      "text/html": [
       "<div>\n",
       "<style scoped>\n",
       "    .dataframe tbody tr th:only-of-type {\n",
       "        vertical-align: middle;\n",
       "    }\n",
       "\n",
       "    .dataframe tbody tr th {\n",
       "        vertical-align: top;\n",
       "    }\n",
       "\n",
       "    .dataframe thead th {\n",
       "        text-align: right;\n",
       "    }\n",
       "</style>\n",
       "<table border=\"1\" class=\"dataframe\">\n",
       "  <thead>\n",
       "    <tr style=\"text-align: right;\">\n",
       "      <th></th>\n",
       "      <th>cluster_id</th>\n",
       "      <th>unique_id</th>\n",
       "      <th>first_name</th>\n",
       "      <th>surname</th>\n",
       "      <th>dob</th>\n",
       "      <th>city</th>\n",
       "      <th>email</th>\n",
       "      <th>cluster</th>\n",
       "    </tr>\n",
       "  </thead>\n",
       "  <tbody>\n",
       "    <tr>\n",
       "      <th>1</th>\n",
       "      <td>8</td>\n",
       "      <td>9</td>\n",
       "      <td>Evie</td>\n",
       "      <td>Dean</td>\n",
       "      <td>2015-03-03</td>\n",
       "      <td>Pootsmruth</td>\n",
       "      <td>evihd56@earris-bailey.net</td>\n",
       "      <td>3</td>\n",
       "    </tr>\n",
       "    <tr>\n",
       "      <th>3</th>\n",
       "      <td>22</td>\n",
       "      <td>24</td>\n",
       "      <td>Thoas</td>\n",
       "      <td>Green</td>\n",
       "      <td>1974-10-05</td>\n",
       "      <td>London</td>\n",
       "      <td>thomas.green@clark.org</td>\n",
       "      <td>10</td>\n",
       "    </tr>\n",
       "    <tr>\n",
       "      <th>4</th>\n",
       "      <td>26</td>\n",
       "      <td>26</td>\n",
       "      <td>Thomas</td>\n",
       "      <td>Gabriel</td>\n",
       "      <td>1976-09-15</td>\n",
       "      <td>Loodon</td>\n",
       "      <td>gabriel.t54@nnichls.info</td>\n",
       "      <td>11</td>\n",
       "    </tr>\n",
       "    <tr>\n",
       "      <th>5</th>\n",
       "      <td>26</td>\n",
       "      <td>30</td>\n",
       "      <td>Thomas</td>\n",
       "      <td>Gabriel</td>\n",
       "      <td>1976-09-15</td>\n",
       "      <td>London</td>\n",
       "      <td>gabriel.t54@nlchois.info</td>\n",
       "      <td>11</td>\n",
       "    </tr>\n",
       "    <tr>\n",
       "      <th>6</th>\n",
       "      <td>37</td>\n",
       "      <td>37</td>\n",
       "      <td>Theodore</td>\n",
       "      <td>Morris</td>\n",
       "      <td>1978-08-19</td>\n",
       "      <td>Birmingham</td>\n",
       "      <td>t.m39@brooks-sawyer.com</td>\n",
       "      <td>13</td>\n",
       "    </tr>\n",
       "    <tr>\n",
       "      <th>...</th>\n",
       "      <td>...</td>\n",
       "      <td>...</td>\n",
       "      <td>...</td>\n",
       "      <td>...</td>\n",
       "      <td>...</td>\n",
       "      <td>...</td>\n",
       "      <td>...</td>\n",
       "      <td>...</td>\n",
       "    </tr>\n",
       "    <tr>\n",
       "      <th>994</th>\n",
       "      <td>919</td>\n",
       "      <td>922</td>\n",
       "      <td>Evie</td>\n",
       "      <td>Jones</td>\n",
       "      <td>2002-07-22</td>\n",
       "      <td>None</td>\n",
       "      <td>eviejones@brewer-sparks.org</td>\n",
       "      <td>230</td>\n",
       "    </tr>\n",
       "    <tr>\n",
       "      <th>995</th>\n",
       "      <td>954</td>\n",
       "      <td>954</td>\n",
       "      <td>Oliver</td>\n",
       "      <td>Roberton</td>\n",
       "      <td>2013-01-06</td>\n",
       "      <td>None</td>\n",
       "      <td>orobertson91@olson-palmer.com</td>\n",
       "      <td>239</td>\n",
       "    </tr>\n",
       "    <tr>\n",
       "      <th>996</th>\n",
       "      <td>899</td>\n",
       "      <td>904</td>\n",
       "      <td>Aria</td>\n",
       "      <td>Cross</td>\n",
       "      <td>2000-01-14</td>\n",
       "      <td>Newcastle-upon-Tyne</td>\n",
       "      <td>a.cross58@browning-nguyen.com</td>\n",
       "      <td>224</td>\n",
       "    </tr>\n",
       "    <tr>\n",
       "      <th>997</th>\n",
       "      <td>985</td>\n",
       "      <td>990</td>\n",
       "      <td>Nancy</td>\n",
       "      <td>Williasm</td>\n",
       "      <td>1972-01-18</td>\n",
       "      <td>None</td>\n",
       "      <td>None</td>\n",
       "      <td>247</td>\n",
       "    </tr>\n",
       "    <tr>\n",
       "      <th>998</th>\n",
       "      <td>971</td>\n",
       "      <td>974</td>\n",
       "      <td>Leon</td>\n",
       "      <td>Armstrong</td>\n",
       "      <td>1970-04-11</td>\n",
       "      <td>Salford</td>\n",
       "      <td>None</td>\n",
       "      <td>245</td>\n",
       "    </tr>\n",
       "  </tbody>\n",
       "</table>\n",
       "<p>755 rows × 8 columns</p>\n",
       "</div>"
      ],
      "text/plain": [
       "     cluster_id  unique_id first_name    surname         dob  \\\n",
       "1             8          9       Evie       Dean  2015-03-03   \n",
       "3            22         24      Thoas      Green  1974-10-05   \n",
       "4            26         26     Thomas    Gabriel  1976-09-15   \n",
       "5            26         30     Thomas    Gabriel  1976-09-15   \n",
       "6            37         37   Theodore     Morris  1978-08-19   \n",
       "..          ...        ...        ...        ...         ...   \n",
       "994         919        922       Evie      Jones  2002-07-22   \n",
       "995         954        954     Oliver   Roberton  2013-01-06   \n",
       "996         899        904       Aria      Cross  2000-01-14   \n",
       "997         985        990      Nancy   Williasm  1972-01-18   \n",
       "998         971        974       Leon  Armstrong  1970-04-11   \n",
       "\n",
       "                    city                          email  cluster  \n",
       "1             Pootsmruth      evihd56@earris-bailey.net        3  \n",
       "3                 London         thomas.green@clark.org       10  \n",
       "4                 Loodon       gabriel.t54@nnichls.info       11  \n",
       "5                 London       gabriel.t54@nlchois.info       11  \n",
       "6             Birmingham        t.m39@brooks-sawyer.com       13  \n",
       "..                   ...                            ...      ...  \n",
       "994                 None    eviejones@brewer-sparks.org      230  \n",
       "995                 None  orobertson91@olson-palmer.com      239  \n",
       "996  Newcastle-upon-Tyne  a.cross58@browning-nguyen.com      224  \n",
       "997                 None                           None      247  \n",
       "998              Salford                           None      245  \n",
       "\n",
       "[755 rows x 8 columns]"
      ]
     },
     "execution_count": 53,
     "metadata": {},
     "output_type": "execute_result"
    }
   ],
   "source": [
    "nonunique_df_clusters"
   ]
  },
  {
   "cell_type": "code",
   "execution_count": null,
   "id": "6f69939c",
   "metadata": {},
   "outputs": [],
   "source": []
  }
 ],
 "metadata": {
  "kernelspec": {
   "display_name": "base",
   "language": "python",
   "name": "python3"
  },
  "language_info": {
   "codemirror_mode": {
    "name": "ipython",
    "version": 3
   },
   "file_extension": ".py",
   "mimetype": "text/x-python",
   "name": "python",
   "nbconvert_exporter": "python",
   "pygments_lexer": "ipython3",
   "version": "3.9.13"
  }
 },
 "nbformat": 4,
 "nbformat_minor": 5
}
